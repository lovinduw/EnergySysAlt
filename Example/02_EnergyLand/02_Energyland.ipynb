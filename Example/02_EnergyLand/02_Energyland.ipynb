{
 "cells": [
  {
   "cell_type": "markdown",
   "metadata": {},
   "source": [
    "# Workflow for the EnergyLand energy system\n",
    "\n",
    "In this application of the ETHOS.FINE framework, a single node energy system is modeled and optimized.\n",
    "Compared to the previous examples, this example includes a lot more technologies considered in the system. \n",
    "\n",
    "The workflow is structures as follows:\n",
    "1. Required packages are imported and the input data path is set\n",
    "2. An energy system model instance is created\n",
    "3. Commodity sources are added to the energy system model\n",
    "4. Commodity conversion components are added to the energy system model\n",
    "5. Commodity storages are added to the energy system model\n",
    "6. Commodity sinks are added to the energy system model\n",
    "7. The energy system model is optimized\n",
    "8. Selected optimization results are presented"
   ]
  },
  {
   "cell_type": "code",
   "execution_count": null,
   "metadata": {},
   "outputs": [],
   "source": [
    "from IPython.display import Image\n",
    "from pathlib import Path\n",
    "import energysysalt\n",
    "\n",
    "Image(Path(\"images/strukturExample.png\"))"
   ]
  },
  {
   "cell_type": "markdown",
   "metadata": {},
   "source": [
    "# 1. Import packages\n",
    "\n",
    "The FINE framework is imported which provides the required classes and functions for modeling the energy system.\n",
    "The working directory and the underlying excelfile which provides some of the input data is imported."
   ]
  },
  {
   "cell_type": "code",
   "execution_count": 2,
   "metadata": {},
   "outputs": [],
   "source": [
    "import fine as fn\n",
    "from getData import getData\n",
    "import pandas as pd\n",
    "import os\n",
    "\n",
    "cwd = os.getcwd()\n",
    "data = getData()"
   ]
  },
  {
   "cell_type": "markdown",
   "metadata": {},
   "source": [
    "# 2. Set up energy system model instance\n",
    "\n",
    "The structure of the energy system model is given by the considered locations, in this case we consider only one location (EnergyLand), commodities, the number of time steps as well as the hours per time step.\n",
    "\n",
    "The commodities are specified by a unit, which can be given as an energy or mass unit per hour."
   ]
  },
  {
   "cell_type": "code",
   "execution_count": 3,
   "metadata": {},
   "outputs": [],
   "source": [
    "locations = {\"EnergyLand\"}\n",
    "commodityUnitDict = {\n",
    "    \"electricity\": r\"GW$_{el}$\",\n",
    "    \"hydrogen\": r\"GW$_{H_{2},LHV}$\",\n",
    "    \"nGas\": r\"GW$_{CH4}$\",\n",
    "    \"coal\": r\"GW$_{coal}$\",\n",
    "    \"PHeat\": r\"GW$_{Pheat}$\",\n",
    "    \"LTHeat\": r\"GW$_{LTHeat}$\",\n",
    "    \"CO2\": r\"kt$_{CO_{2}}$/h\",\n",
    "    \"pTransport\": \"Mio pkm/h\",\n",
    "    \"fTransport\": \"Mio tkm/h\",\n",
    "    \"crudeOil\": r\"GW$_{Oil}$\",\n",
    "    \"wood\": r\"GW$_{wood}$\",\n",
    "    \"biowaste\": r\"GW$_{biowaste}$\",\n",
    "    \"bioslurry\": r\"GW$_{bioslurry}$\",\n",
    "    \"diesel\": r\"GW$_{diesel}$\",\n",
    "    \"biogas\": r\"GW$_{CH4}$\",\n",
    "    \"nGasImp\": r\"GW$_{CH4}$\",\n",
    "}\n",
    "commodities = {\n",
    "    \"electricity\",\n",
    "    \"hydrogen\",\n",
    "    \"nGas\",\n",
    "    \"coal\",\n",
    "    \"PHeat\",\n",
    "    \"LTHeat\",\n",
    "    \"CO2\",\n",
    "    \"pTransport\",\n",
    "    \"fTransport\",\n",
    "    \"crudeOil\",\n",
    "    \"wood\",\n",
    "    \"biowaste\",\n",
    "    \"bioslurry\",\n",
    "    \"diesel\",\n",
    "    \"nGasImp\",\n",
    "    \"biogas\",\n",
    "}\n",
    "numberOfTimeSteps = 8760\n",
    "hoursPerTimeStep = 1"
   ]
  },
  {
   "cell_type": "code",
   "execution_count": 4,
   "metadata": {},
   "outputs": [],
   "source": [
    "esM = fn.EnergySystemModel(\n",
    "    locations=locations,\n",
    "    commodities=commodities,\n",
    "    numberOfTimeSteps=8760,\n",
    "    commodityUnitsDict=commodityUnitDict,\n",
    "    hoursPerTimeStep=1,\n",
    "    costUnit=\"1e6 Euro\",\n",
    "    lengthUnit=\"km\",\n",
    "    verboseLogLevel=0,\n",
    ")"
   ]
  },
  {
   "cell_type": "markdown",
   "metadata": {},
   "source": [
    "# 3. Sources\n",
    "\n",
    "Source components transfer a commodity from outside the system boundary of EnergyLand into the system."
   ]
  },
  {
   "cell_type": "markdown",
   "metadata": {},
   "source": [
    "## 3.1 Electricity sources"
   ]
  },
  {
   "cell_type": "markdown",
   "metadata": {},
   "source": [
    "### Wind turbines"
   ]
  },
  {
   "cell_type": "markdown",
   "metadata": {},
   "source": [
    "#### Onshore Wind Turbines"
   ]
  },
  {
   "cell_type": "code",
   "execution_count": 5,
   "metadata": {
    "scrolled": true
   },
   "outputs": [],
   "source": [
    "esM.add(\n",
    "    fn.Source(\n",
    "        esM=esM,\n",
    "        name=\"Wind_Onshore\",\n",
    "        commodity=\"electricity\",\n",
    "        hasCapacityVariable=True,\n",
    "        operationRateMax=data[\"Wind_onshore, operationRateMax\"],\n",
    "        capacityMax=data[\"Wind_onshore, capacityMax\"],\n",
    "        investPerCapacity=1250,\n",
    "        opexPerCapacity=1250 * 0.02,\n",
    "        interestRate=0.08,\n",
    "        economicLifetime=20,\n",
    "    )\n",
    ")"
   ]
  },
  {
   "cell_type": "markdown",
   "metadata": {},
   "source": [
    "#### Offshore Wind Turbines"
   ]
  },
  {
   "cell_type": "code",
   "execution_count": 6,
   "metadata": {},
   "outputs": [],
   "source": [
    "esM.add(\n",
    "    fn.Source(\n",
    "        esM=esM,\n",
    "        name=\"Wind_Offshore\",\n",
    "        commodity=\"electricity\",\n",
    "        hasCapacityVariable=True,\n",
    "        operationRateMax=data[\"Wind_offshore, operationRateMax\"],\n",
    "        capacityMax=data[\"Wind_offshore, capacityMax\"],\n",
    "        investPerCapacity=2530,\n",
    "        opexPerCapacity=2530 * 0.045,\n",
    "        interestRate=0.08,\n",
    "        economicLifetime=20,\n",
    "    )\n",
    ")"
   ]
  },
  {
   "cell_type": "markdown",
   "metadata": {},
   "source": [
    "### Photovoltaic"
   ]
  },
  {
   "cell_type": "code",
   "execution_count": 7,
   "metadata": {},
   "outputs": [],
   "source": [
    "esM.add(\n",
    "    fn.Source(\n",
    "        esM=esM,\n",
    "        name=\"PV\",\n",
    "        commodity=\"electricity\",\n",
    "        hasCapacityVariable=True,\n",
    "        operationRateMax=data[\"PV, operationRateMax\"],\n",
    "        capacityMax=data[\"PV, capacityMax\"],\n",
    "        investPerCapacity=800,\n",
    "        opexPerCapacity=800 * 0.019,\n",
    "        interestRate=0.08,\n",
    "        economicLifetime=20,\n",
    "    )\n",
    ")"
   ]
  },
  {
   "cell_type": "markdown",
   "metadata": {},
   "source": [
    "### Electricity import"
   ]
  },
  {
   "cell_type": "code",
   "execution_count": 8,
   "metadata": {},
   "outputs": [],
   "source": [
    "esM.add(\n",
    "    fn.Source(\n",
    "        esM=esM,\n",
    "        name=\"el_Import\",\n",
    "        commodity=\"electricity\",\n",
    "        hasCapacityVariable=False,\n",
    "        operationRateMax=data[\"el_Import, operationRateMax\"],\n",
    "    )\n",
    ")"
   ]
  },
  {
   "cell_type": "markdown",
   "metadata": {},
   "source": [
    "## 3.2 Hydrogen source"
   ]
  },
  {
   "cell_type": "code",
   "execution_count": 9,
   "metadata": {},
   "outputs": [],
   "source": [
    "esM.add(\n",
    "    fn.Source(\n",
    "        esM=esM,\n",
    "        name=\"H2_Import\",\n",
    "        commodity=\"hydrogen\",\n",
    "        hasCapacityVariable=False,\n",
    "        operationRateMax=data[\"H2_Import, operationRateMax\"],\n",
    "        commodityCost=0.132,\n",
    "    )\n",
    ")"
   ]
  },
  {
   "cell_type": "markdown",
   "metadata": {},
   "source": [
    "## 3.3 Coal source"
   ]
  },
  {
   "cell_type": "code",
   "execution_count": 10,
   "metadata": {},
   "outputs": [],
   "source": [
    "esM.add(\n",
    "    fn.Source(\n",
    "        esM=esM,\n",
    "        name=\"CoalSource\",\n",
    "        commodity=\"coal\",\n",
    "        hasCapacityVariable=False,\n",
    "        commodityCost=0.021,\n",
    "    )\n",
    ")"
   ]
  },
  {
   "cell_type": "markdown",
   "metadata": {},
   "source": [
    "## 3.4 Crude Oil source"
   ]
  },
  {
   "cell_type": "code",
   "execution_count": 11,
   "metadata": {},
   "outputs": [],
   "source": [
    "esM.add(\n",
    "    fn.Source(\n",
    "        esM=esM,\n",
    "        name=\"CrudeOilSource\",\n",
    "        commodity=\"crudeOil\",\n",
    "        hasCapacityVariable=False,\n",
    "        commodityCost=0.036,\n",
    "    )\n",
    ")"
   ]
  },
  {
   "cell_type": "markdown",
   "metadata": {},
   "source": [
    "## 3.5 Natural gas source"
   ]
  },
  {
   "cell_type": "code",
   "execution_count": 12,
   "metadata": {},
   "outputs": [],
   "source": [
    "esM.add(\n",
    "    fn.Source(\n",
    "        esM=esM,\n",
    "        name=\"nGasSource\",\n",
    "        commodity=\"nGasImp\",\n",
    "        hasCapacityVariable=False,\n",
    "        commodityCost=0.0256,\n",
    "    )\n",
    ")"
   ]
  },
  {
   "cell_type": "markdown",
   "metadata": {},
   "source": [
    "## 3.6 Biomass sources"
   ]
  },
  {
   "cell_type": "markdown",
   "metadata": {},
   "source": [
    "#### Wood Source"
   ]
  },
  {
   "cell_type": "code",
   "execution_count": 13,
   "metadata": {},
   "outputs": [],
   "source": [
    "esM.add(\n",
    "    fn.Source(\n",
    "        esM=esM,\n",
    "        name=\"WoodSource\",\n",
    "        commodity=\"wood\",\n",
    "        hasCapacityVariable=True,\n",
    "        capacityMax=data[\"wood_source, capacityMax\"],\n",
    "        commodityCost=0.028,\n",
    "    )\n",
    ")"
   ]
  },
  {
   "cell_type": "markdown",
   "metadata": {},
   "source": [
    "#### Biowaste Source"
   ]
  },
  {
   "cell_type": "code",
   "execution_count": 14,
   "metadata": {},
   "outputs": [],
   "source": [
    "esM.add(\n",
    "    fn.Source(\n",
    "        esM=esM,\n",
    "        name=\"BiowasteSource\",\n",
    "        commodity=\"biowaste\",\n",
    "        hasCapacityVariable=True,\n",
    "        capacityMax=data[\"biowaste_source, capacityMax\"],\n",
    "        commodityCost=0.07,\n",
    "    )\n",
    ")"
   ]
  },
  {
   "cell_type": "markdown",
   "metadata": {},
   "source": [
    "#### Bioslurry Source"
   ]
  },
  {
   "cell_type": "code",
   "execution_count": 15,
   "metadata": {},
   "outputs": [],
   "source": [
    "esM.add(\n",
    "    fn.Source(\n",
    "        esM=esM,\n",
    "        name=\"BioslurrySource\",\n",
    "        commodity=\"bioslurry\",\n",
    "        hasCapacityVariable=True,\n",
    "        capacityMax=data[\"bioslurry_source, capacityMax\"],\n",
    "        commodityCost=0.07,\n",
    "    )\n",
    ")"
   ]
  },
  {
   "cell_type": "markdown",
   "metadata": {},
   "source": [
    "# 4. Conversion components\n",
    "\n",
    "These are the components which can transfer one commodity into another one."
   ]
  },
  {
   "cell_type": "markdown",
   "metadata": {},
   "source": [
    "## 4.1 Biomas to biogas"
   ]
  },
  {
   "cell_type": "markdown",
   "metadata": {},
   "source": [
    "### Bioslurry to Biogas"
   ]
  },
  {
   "cell_type": "code",
   "execution_count": 16,
   "metadata": {},
   "outputs": [],
   "source": [
    "esM.add(\n",
    "    fn.Conversion(\n",
    "        esM=esM,\n",
    "        name=\"bioslurry-biogas\",\n",
    "        physicalUnit=r\"GW$_{CH4}$\",\n",
    "        commodityConversionFactors={\"bioslurry\": -1, \"biogas\": 1},\n",
    "        hasCapacityVariable=False,\n",
    "    )\n",
    ")"
   ]
  },
  {
   "cell_type": "markdown",
   "metadata": {},
   "source": [
    "### Biowaste to Biogas"
   ]
  },
  {
   "cell_type": "code",
   "execution_count": 17,
   "metadata": {},
   "outputs": [],
   "source": [
    "esM.add(\n",
    "    fn.Conversion(\n",
    "        esM=esM,\n",
    "        name=\"biowaste-biogas\",\n",
    "        physicalUnit=r\"GW$_{CH4}$\",\n",
    "        commodityConversionFactors={\"biowaste\": -1, \"biogas\": 1},\n",
    "        hasCapacityVariable=False,\n",
    "    )\n",
    ")"
   ]
  },
  {
   "cell_type": "markdown",
   "metadata": {},
   "source": [
    "## 4.2 Methane Slip (Virtual conversion)"
   ]
  },
  {
   "cell_type": "code",
   "execution_count": 18,
   "metadata": {},
   "outputs": [],
   "source": [
    "methaneSlip = 0.1\n",
    "esM.add(\n",
    "    fn.Conversion(\n",
    "        esM=esM,\n",
    "        name=\"CH4Slip\",\n",
    "        physicalUnit=r\"GW$_{CH4}$\",\n",
    "        commodityConversionFactors={\n",
    "            \"nGasImp\": -1,\n",
    "            \"nGas\": 1,\n",
    "            \"CO2\": methaneSlip * 2.014,\n",
    "        },\n",
    "        hasCapacityVariable=False,\n",
    "    )\n",
    ")"
   ]
  },
  {
   "cell_type": "markdown",
   "metadata": {},
   "source": [
    "## 4.3 Biogas to Methane (Virtual conversion)"
   ]
  },
  {
   "cell_type": "code",
   "execution_count": 19,
   "metadata": {},
   "outputs": [],
   "source": [
    "esM.add(\n",
    "    fn.Conversion(\n",
    "        esM=esM,\n",
    "        name=\"biogas-nGas\",\n",
    "        physicalUnit=r\"GW$_{CH4}$\",\n",
    "        commodityConversionFactors={\"biogas\": -1, \"nGas\": 1, \"CO2\": -0.2014},\n",
    "        hasCapacityVariable=True,\n",
    "        opexPerOperation=0.0003,\n",
    "        investPerCapacity=343,\n",
    "        opexPerCapacity=343 * 0.025,\n",
    "        interestRate=0.08,\n",
    "        economicLifetime=15,\n",
    "    )\n",
    ")"
   ]
  },
  {
   "cell_type": "markdown",
   "metadata": {},
   "source": [
    "## 4.4 Transport"
   ]
  },
  {
   "cell_type": "markdown",
   "metadata": {},
   "source": [
    "### Batterie Electric Vehicle"
   ]
  },
  {
   "cell_type": "markdown",
   "metadata": {},
   "source": [
    "#### BEV Car"
   ]
  },
  {
   "cell_type": "code",
   "execution_count": 20,
   "metadata": {},
   "outputs": [],
   "source": [
    "esM.add(\n",
    "    fn.Conversion(\n",
    "        esM=esM,\n",
    "        name=\"BEV_PCar\",\n",
    "        physicalUnit=r\"Mio pkm/h\",\n",
    "        commodityConversionFactors={\"electricity\": -1 / 7.676226, \"pTransport\": 1},\n",
    "        hasCapacityVariable=True,\n",
    "        investPerCapacity=15694,\n",
    "        opexPerCapacity=15694 * 0.009,\n",
    "        interestRate=0.08,\n",
    "        economicLifetime=12,\n",
    "    )\n",
    ")"
   ]
  },
  {
   "cell_type": "markdown",
   "metadata": {},
   "source": [
    "#### BEV Truck"
   ]
  },
  {
   "cell_type": "code",
   "execution_count": 21,
   "metadata": {},
   "outputs": [],
   "source": [
    "esM.add(\n",
    "    fn.Conversion(\n",
    "        esM=esM,\n",
    "        name=\"BEV_Truck\",\n",
    "        physicalUnit=r\"Mio tkm/h\",\n",
    "        commodityConversionFactors={\"electricity\": -1 / 11.401, \"fTransport\": 1},\n",
    "        hasCapacityVariable=True,\n",
    "        investPerCapacity=4304,\n",
    "        opexPerCapacity=4304 * 0.009,\n",
    "        interestRate=0.08,\n",
    "        economicLifetime=15,\n",
    "    )\n",
    ")"
   ]
  },
  {
   "cell_type": "markdown",
   "metadata": {},
   "source": [
    "### Fuel Cell Electric Vehicle"
   ]
  },
  {
   "cell_type": "markdown",
   "metadata": {},
   "source": [
    "#### FCEV Car"
   ]
  },
  {
   "cell_type": "code",
   "execution_count": 22,
   "metadata": {},
   "outputs": [],
   "source": [
    "esM.add(\n",
    "    fn.Conversion(\n",
    "        esM=esM,\n",
    "        name=\"FCEV_PCar\",\n",
    "        physicalUnit=r\"Mio pkm/h\",\n",
    "        commodityConversionFactors={\"hydrogen\": -1 / 4.7472, \"pTransport\": 1},\n",
    "        hasCapacityVariable=True,\n",
    "        investPerCapacity=15694,\n",
    "        opexPerCapacity=15694 * 0.009,\n",
    "        interestRate=0.08,\n",
    "        economicLifetime=12,\n",
    "    )\n",
    ")"
   ]
  },
  {
   "cell_type": "markdown",
   "metadata": {},
   "source": [
    "#### FCEV Truck"
   ]
  },
  {
   "cell_type": "code",
   "execution_count": 23,
   "metadata": {},
   "outputs": [],
   "source": [
    "esM.add(\n",
    "    fn.Conversion(\n",
    "        esM=esM,\n",
    "        name=\"FCEV_Truck\",\n",
    "        physicalUnit=r\"Mio tkm/h\",\n",
    "        commodityConversionFactors={\"hydrogen\": -1 / 8.251, \"fTransport\": 1},\n",
    "        hasCapacityVariable=True,\n",
    "        investPerCapacity=4283,\n",
    "        opexPerCapacity=4283 * 0.009,\n",
    "        interestRate=0.08,\n",
    "        economicLifetime=15,\n",
    "    )\n",
    ")"
   ]
  },
  {
   "cell_type": "markdown",
   "metadata": {},
   "source": [
    "### Fossil Vehicles"
   ]
  },
  {
   "cell_type": "markdown",
   "metadata": {},
   "source": [
    "#### Fossil Car"
   ]
  },
  {
   "cell_type": "code",
   "execution_count": 24,
   "metadata": {},
   "outputs": [],
   "source": [
    "esM.add(\n",
    "    fn.Conversion(\n",
    "        esM=esM,\n",
    "        name=\"FossilCar\",\n",
    "        physicalUnit=r\"Mio pkm/h\",\n",
    "        commodityConversionFactors={\"diesel\": -1 / 3.1308, \"pTransport\": 1},\n",
    "        hasCapacityVariable=True,\n",
    "        investPerCapacity=15694,\n",
    "        opexPerCapacity=15694 * 0.016,\n",
    "        interestRate=0.08,\n",
    "        economicLifetime=12,\n",
    "    )\n",
    ")"
   ]
  },
  {
   "cell_type": "markdown",
   "metadata": {},
   "source": [
    "#### Fossil Truck"
   ]
  },
  {
   "cell_type": "code",
   "execution_count": 25,
   "metadata": {},
   "outputs": [],
   "source": [
    "esM.add(\n",
    "    fn.Conversion(\n",
    "        esM=esM,\n",
    "        name=\"FossilTruck\",\n",
    "        physicalUnit=r\"Mio tkm/h\",\n",
    "        commodityConversionFactors={\"diesel\": -1 / 7.938, \"fTransport\": 1},\n",
    "        hasCapacityVariable=True,\n",
    "        investPerCapacity=3342,\n",
    "        opexPerCapacity=3342 * 0.016,\n",
    "        interestRate=0.08,\n",
    "        economicLifetime=15,\n",
    "    )\n",
    ")"
   ]
  },
  {
   "cell_type": "markdown",
   "metadata": {},
   "source": [
    "## 4.5 Diesel Refinery"
   ]
  },
  {
   "cell_type": "code",
   "execution_count": 26,
   "metadata": {},
   "outputs": [],
   "source": [
    "esM.add(\n",
    "    fn.Conversion(\n",
    "        esM=esM,\n",
    "        name=\"DieselRef\",\n",
    "        physicalUnit=r\"GW$_{diesel}$\",\n",
    "        commodityConversionFactors={\"crudeOil\": -1 / 0.364, \"diesel\": 1, \"CO2\": 0.725},\n",
    "        hasCapacityVariable=True,\n",
    "        investPerCapacity=1 / 0.364,\n",
    "        opexPerCapacity=(1 / 0.364) * 0.001,\n",
    "        interestRate=0.08,\n",
    "        economicLifetime=20,\n",
    "    )\n",
    ")"
   ]
  },
  {
   "cell_type": "markdown",
   "metadata": {},
   "source": [
    "## 4.6 Power Plants"
   ]
  },
  {
   "cell_type": "markdown",
   "metadata": {},
   "source": [
    "### Combined Cycle Gas Turbine"
   ]
  },
  {
   "cell_type": "markdown",
   "metadata": {},
   "source": [
    "#### Natural Gas CCGT"
   ]
  },
  {
   "cell_type": "code",
   "execution_count": 27,
   "metadata": {},
   "outputs": [],
   "source": [
    "esM.add(\n",
    "    fn.Conversion(\n",
    "        esM=esM,\n",
    "        name=\"CCGT plants (NGas)\",\n",
    "        physicalUnit=r\"GW$_{el}$\",\n",
    "        commodityConversionFactors={\"electricity\": 1, \"nGas\": -1 / 0.65, \"CO2\": 0.31},\n",
    "        hasCapacityVariable=True,\n",
    "        investPerCapacity=850,\n",
    "        opexPerCapacity=850 * 0.03,\n",
    "        opexPerOperation=0.002,\n",
    "        interestRate=0.08,\n",
    "        economicLifetime=30,\n",
    "    )\n",
    ")"
   ]
  },
  {
   "cell_type": "markdown",
   "metadata": {},
   "source": [
    "#### H2 CCGT"
   ]
  },
  {
   "cell_type": "code",
   "execution_count": 28,
   "metadata": {},
   "outputs": [],
   "source": [
    "esM.add(\n",
    "    fn.Conversion(\n",
    "        esM=esM,\n",
    "        name=\"CCGT plants (hydrogen)\",\n",
    "        physicalUnit=r\"GW$_{el}$\",\n",
    "        commodityConversionFactors={\"electricity\": 1, \"hydrogen\": -1 / 0.6},\n",
    "        hasCapacityVariable=True,\n",
    "        investPerCapacity=760,\n",
    "        opexPerCapacity=760 * 0.014,\n",
    "        opexPerOperation=0.002,\n",
    "        interestRate=0.08,\n",
    "        economicLifetime=20,\n",
    "    )\n",
    ")"
   ]
  },
  {
   "cell_type": "markdown",
   "metadata": {},
   "source": [
    "### Fuel cell"
   ]
  },
  {
   "cell_type": "code",
   "execution_count": 29,
   "metadata": {},
   "outputs": [],
   "source": [
    "esM.add(\n",
    "    fn.Conversion(\n",
    "        esM=esM,\n",
    "        name=\"LS-SOFC\",\n",
    "        physicalUnit=r\"GW$_{el}$\",\n",
    "        commodityConversionFactors={\n",
    "            \"electricity\": 1,\n",
    "            \"hydrogen\": -1 / 0.7,\n",
    "            \"LTHeat\": 0.25 / 0.7,\n",
    "        },\n",
    "        hasCapacityVariable=True,\n",
    "        investPerCapacity=1210,\n",
    "        opexPerCapacity=1210 * 0.008,\n",
    "        interestRate=0.08,\n",
    "        economicLifetime=20,\n",
    "    )\n",
    ")"
   ]
  },
  {
   "cell_type": "markdown",
   "metadata": {},
   "source": [
    "### Coal power plant"
   ]
  },
  {
   "cell_type": "code",
   "execution_count": 30,
   "metadata": {},
   "outputs": [],
   "source": [
    "esM.add(\n",
    "    fn.Conversion(\n",
    "        esM=esM,\n",
    "        name=\"CoalPP\",\n",
    "        physicalUnit=r\"GW$_{el}$\",\n",
    "        commodityConversionFactors={\"electricity\": 1, \"coal\": -1 / 0.5, \"CO2\": 0.674},\n",
    "        hasCapacityVariable=True,\n",
    "        opexPerOperation=0.0015,\n",
    "        investPerCapacity=1450,\n",
    "        opexPerCapacity=1450 * 0.026,\n",
    "        interestRate=0.08,\n",
    "        economicLifetime=40,\n",
    "    )\n",
    ")"
   ]
  },
  {
   "cell_type": "markdown",
   "metadata": {},
   "source": [
    "### Combined Heat and Power Plants"
   ]
  },
  {
   "cell_type": "markdown",
   "metadata": {},
   "source": [
    "#### Coal CHP"
   ]
  },
  {
   "cell_type": "code",
   "execution_count": 31,
   "metadata": {},
   "outputs": [],
   "source": [
    "esM.add(\n",
    "    fn.Conversion(\n",
    "        esM=esM,\n",
    "        name=\"CoalCHP\",\n",
    "        physicalUnit=r\"GW$_{el}$\",\n",
    "        commodityConversionFactors={\n",
    "            \"electricity\": 1,\n",
    "            \"LTHeat\": 0.51 / 0.38,\n",
    "            \"coal\": -1 / 0.38,\n",
    "            \"CO2\": 0.886,\n",
    "        },\n",
    "        hasCapacityVariable=True,\n",
    "        opexPerOperation=0.0051,\n",
    "        investPerCapacity=1847,\n",
    "        opexPerCapacity=1847 * 0.027,\n",
    "        interestRate=0.08,\n",
    "        economicLifetime=35,\n",
    "    )\n",
    ")"
   ]
  },
  {
   "cell_type": "markdown",
   "metadata": {},
   "source": [
    "#### Wood CHP"
   ]
  },
  {
   "cell_type": "code",
   "execution_count": 32,
   "metadata": {},
   "outputs": [],
   "source": [
    "esM.add(\n",
    "    fn.Conversion(\n",
    "        esM=esM,\n",
    "        name=\"WoodCHP\",\n",
    "        physicalUnit=r\"GW$_{el}$\",\n",
    "        commodityConversionFactors={\n",
    "            \"electricity\": 1,\n",
    "            \"LTHeat\": 0.826 / 0.291,\n",
    "            \"wood\": -1 / 0.291,\n",
    "        },\n",
    "        hasCapacityVariable=True,\n",
    "        opexPerOperation=0.0038,\n",
    "        investPerCapacity=3000,\n",
    "        opexPerCapacity=3000 * 0.029,\n",
    "        interestRate=0.08,\n",
    "        economicLifetime=25,\n",
    "    )\n",
    ")"
   ]
  },
  {
   "cell_type": "markdown",
   "metadata": {},
   "source": [
    "#### Natural Gas CHP"
   ]
  },
  {
   "cell_type": "code",
   "execution_count": 33,
   "metadata": {},
   "outputs": [],
   "source": [
    "esM.add(\n",
    "    fn.Conversion(\n",
    "        esM=esM,\n",
    "        name=\"nGasCHP\",\n",
    "        physicalUnit=r\"GW$_{el}$\",\n",
    "        commodityConversionFactors={\n",
    "            \"electricity\": 1,\n",
    "            \"LTHeat\": 0.5 / 0.35,\n",
    "            \"nGas\": -1 / 0.35,\n",
    "            \"CO2\": 0.575,\n",
    "        },\n",
    "        hasCapacityVariable=True,\n",
    "        opexPerOperation=0.0015,\n",
    "        investPerCapacity=666,\n",
    "        opexPerCapacity=666 * 0.041,\n",
    "        interestRate=0.08,\n",
    "        economicLifetime=30,\n",
    "    )\n",
    ")"
   ]
  },
  {
   "cell_type": "markdown",
   "metadata": {},
   "source": [
    "#### Biogas CHP"
   ]
  },
  {
   "cell_type": "code",
   "execution_count": 34,
   "metadata": {},
   "outputs": [],
   "source": [
    "esM.add(\n",
    "    fn.Conversion(\n",
    "        esM=esM,\n",
    "        name=\"BioGasCHP\",\n",
    "        physicalUnit=r\"GW$_{el}$\",\n",
    "        commodityConversionFactors={\"electricity\": 1, \"LTHeat\": 1, \"biogas\": -1 / 0.47},\n",
    "        hasCapacityVariable=True,\n",
    "        opexPerOperation=0.008,\n",
    "        investPerCapacity=850,\n",
    "        opexPerCapacity=850 * 0.01,\n",
    "        interestRate=0.08,\n",
    "        economicLifetime=25,\n",
    "    )\n",
    ")"
   ]
  },
  {
   "cell_type": "markdown",
   "metadata": {},
   "source": [
    "#### H2 CHP"
   ]
  },
  {
   "cell_type": "code",
   "execution_count": 35,
   "metadata": {},
   "outputs": [],
   "source": [
    "esM.add(\n",
    "    fn.Conversion(\n",
    "        esM=esM,\n",
    "        name=\"H2CHP\",\n",
    "        physicalUnit=r\"GW$_{el}$\",\n",
    "        commodityConversionFactors={\n",
    "            \"electricity\": 1,\n",
    "            \"LTHeat\": 0.41 / 0.49,\n",
    "            \"hydrogen\": -1 / 0.49,\n",
    "        },\n",
    "        hasCapacityVariable=True,\n",
    "        opexPerOperation=0.0006,\n",
    "        investPerCapacity=715,\n",
    "        opexPerCapacity=715 * 0.001,\n",
    "        interestRate=0.08,\n",
    "        economicLifetime=20,\n",
    "    )\n",
    ")"
   ]
  },
  {
   "cell_type": "markdown",
   "metadata": {},
   "source": [
    "## 4.7 Thermal power plants"
   ]
  },
  {
   "cell_type": "markdown",
   "metadata": {},
   "source": [
    "#### Oil Boiler"
   ]
  },
  {
   "cell_type": "code",
   "execution_count": 36,
   "metadata": {},
   "outputs": [],
   "source": [
    "esM.add(\n",
    "    fn.Conversion(\n",
    "        esM=esM,\n",
    "        name=\"oilBoiler\",\n",
    "        physicalUnit=r\"GW$_{LTHeat}$\",\n",
    "        commodityConversionFactors={\"crudeOil\": -1 / 0.96, \"LTHeat\": 1, \"CO2\": 0.275},\n",
    "        hasCapacityVariable=True,\n",
    "        investPerCapacity=330,\n",
    "        opexPerCapacity=330 * 0.041,\n",
    "        interestRate=0.08,\n",
    "        economicLifetime=20,\n",
    "    )\n",
    ")"
   ]
  },
  {
   "cell_type": "markdown",
   "metadata": {},
   "source": [
    "#### Gas Boiler"
   ]
  },
  {
   "cell_type": "code",
   "execution_count": 37,
   "metadata": {},
   "outputs": [],
   "source": [
    "esM.add(\n",
    "    fn.Conversion(\n",
    "        esM=esM,\n",
    "        name=\"gasBoiler\",\n",
    "        physicalUnit=r\"GW$_{LTHeat}$\",\n",
    "        commodityConversionFactors={\"nGas\": -1 / 0.96, \"LTHeat\": 1, \"CO2\": 0.21},\n",
    "        hasCapacityVariable=True,\n",
    "        investPerCapacity=330,\n",
    "        opexPerCapacity=330 * 0.012,\n",
    "        interestRate=0.08,\n",
    "        economicLifetime=20,\n",
    "    )\n",
    ")"
   ]
  },
  {
   "cell_type": "markdown",
   "metadata": {},
   "source": [
    "#### H2 Boiler"
   ]
  },
  {
   "cell_type": "code",
   "execution_count": 38,
   "metadata": {},
   "outputs": [],
   "source": [
    "esM.add(\n",
    "    fn.Conversion(\n",
    "        esM=esM,\n",
    "        name=\"H2Boiler\",\n",
    "        physicalUnit=r\"GW$_{LTHeat}$\",\n",
    "        commodityConversionFactors={\"hydrogen\": -1 / 0.98, \"LTHeat\": 1},\n",
    "        hasCapacityVariable=True,\n",
    "        investPerCapacity=655,\n",
    "        opexPerCapacity=655 * 0.01,\n",
    "        interestRate=0.08,\n",
    "        economicLifetime=20,\n",
    "    )\n",
    ")"
   ]
  },
  {
   "cell_type": "markdown",
   "metadata": {},
   "source": [
    "### Heat pump"
   ]
  },
  {
   "cell_type": "code",
   "execution_count": 39,
   "metadata": {},
   "outputs": [],
   "source": [
    "esM.add(\n",
    "    fn.Conversion(\n",
    "        esM=esM,\n",
    "        name=\"Heatpump\",\n",
    "        physicalUnit=r\"GW$_{LTHeat}$\",\n",
    "        commodityConversionFactors={\"electricity\": -1 / 0.45, \"LTHeat\": 1},\n",
    "        hasCapacityVariable=True,\n",
    "        investPerCapacity=725,\n",
    "        opexPerCapacity=725 * 0.02,\n",
    "        interestRate=0.08,\n",
    "        economicLifetime=20,\n",
    "    )\n",
    ")"
   ]
  },
  {
   "cell_type": "markdown",
   "metadata": {},
   "source": [
    "### Heating rod"
   ]
  },
  {
   "cell_type": "code",
   "execution_count": 40,
   "metadata": {},
   "outputs": [],
   "source": [
    "esM.add(\n",
    "    fn.Conversion(\n",
    "        esM=esM,\n",
    "        name=\"Heating rod\",\n",
    "        physicalUnit=r\"GW$_{LTHeat}$\",\n",
    "        commodityConversionFactors={\"electricity\": -1 / 0.99, \"LTHeat\": 1},\n",
    "        hasCapacityVariable=True,\n",
    "        investPerCapacity=800,\n",
    "        opexPerCapacity=800 * 0.0125,\n",
    "        interestRate=0.08,\n",
    "        economicLifetime=30,\n",
    "    )\n",
    ")"
   ]
  },
  {
   "cell_type": "markdown",
   "metadata": {},
   "source": [
    "### Electrode boiler"
   ]
  },
  {
   "cell_type": "code",
   "execution_count": 41,
   "metadata": {},
   "outputs": [],
   "source": [
    "esM.add(\n",
    "    fn.Conversion(\n",
    "        esM=esM,\n",
    "        name=\"electrode boiler\",\n",
    "        physicalUnit=r\"GW$_{Pheat}$\",\n",
    "        commodityConversionFactors={\"electricity\": -1 / 0.99, \"PHeat\": 1},\n",
    "        hasCapacityVariable=True,\n",
    "        investPerCapacity=140,\n",
    "        opexPerCapacity=140 * 0.02,\n",
    "        interestRate=0.08,\n",
    "        economicLifetime=20,\n",
    "    )\n",
    ")"
   ]
  },
  {
   "cell_type": "markdown",
   "metadata": {},
   "source": [
    "### Stove"
   ]
  },
  {
   "cell_type": "code",
   "execution_count": 42,
   "metadata": {},
   "outputs": [],
   "source": [
    "esM.add(\n",
    "    fn.Conversion(\n",
    "        esM=esM,\n",
    "        name=\"woood Stove\",\n",
    "        physicalUnit=r\"GW$_{LTHeat}$\",\n",
    "        commodityConversionFactors={\"wood\": -1 / 0.75, \"LTHeat\": 1},\n",
    "        hasCapacityVariable=True,\n",
    "        investPerCapacity=775,\n",
    "        opexPerCapacity=775 * 0.06,\n",
    "        interestRate=0.08,\n",
    "        economicLifetime=20,\n",
    "    )\n",
    ")"
   ]
  },
  {
   "cell_type": "markdown",
   "metadata": {},
   "source": [
    "## 4.8 Electrolyzer"
   ]
  },
  {
   "cell_type": "code",
   "execution_count": 43,
   "metadata": {},
   "outputs": [],
   "source": [
    "esM.add(\n",
    "    fn.Conversion(\n",
    "        esM=esM,\n",
    "        name=\"electroylzer\",\n",
    "        physicalUnit=r\"GW$_{H_{2},LHV}$\",\n",
    "        commodityConversionFactors={\"electricity\": -1 / 0.7, \"hydrogen\": 1},\n",
    "        hasCapacityVariable=True,\n",
    "        investPerCapacity=500,\n",
    "        opexPerCapacity=500 * 0.03,\n",
    "        interestRate=0.08,\n",
    "        economicLifetime=10,\n",
    "    )\n",
    ")"
   ]
  },
  {
   "cell_type": "markdown",
   "metadata": {},
   "source": [
    "# 5. Storages\n",
    "\n",
    "The storages which can be used by the EnergyLand model are constructed."
   ]
  },
  {
   "cell_type": "markdown",
   "metadata": {},
   "source": [
    "## Lithium ion batteries"
   ]
  },
  {
   "cell_type": "code",
   "execution_count": 44,
   "metadata": {},
   "outputs": [],
   "source": [
    "esM.add(\n",
    "    fn.Storage(\n",
    "        esM=esM,\n",
    "        name=\"Li-ion batteries\",\n",
    "        commodity=\"electricity\",\n",
    "        hasCapacityVariable=True,\n",
    "        chargeEfficiency=0.99,\n",
    "        dischargeEfficiency=0.99,\n",
    "        selfDischarge=0.004,\n",
    "        doPreciseTsaModeling=False,\n",
    "        investPerCapacity=120,\n",
    "        opexPerCapacity=120 * 0.014,\n",
    "        opexPerChargeOperation=0.0001,\n",
    "        interestRate=0.08,\n",
    "        economicLifetime=10,\n",
    "    )\n",
    ")"
   ]
  },
  {
   "cell_type": "markdown",
   "metadata": {},
   "source": [
    "## Hydrogen filled salt caverns"
   ]
  },
  {
   "cell_type": "code",
   "execution_count": 45,
   "metadata": {},
   "outputs": [],
   "source": [
    "esM.add(\n",
    "    fn.Storage(\n",
    "        esM=esM,\n",
    "        name=\"H2Storage\",\n",
    "        commodity=\"hydrogen\",\n",
    "        hasCapacityVariable=True,\n",
    "        chargeEfficiency=0.98,\n",
    "        dischargeEfficiency=0.998,\n",
    "        doPreciseTsaModeling=False,\n",
    "        investPerCapacity=362,\n",
    "        opexPerCapacity=362 * 0.02,\n",
    "        opexPerChargeOperation=0.0001,\n",
    "        interestRate=0.08,\n",
    "        economicLifetime=40,\n",
    "    )\n",
    ")"
   ]
  },
  {
   "cell_type": "markdown",
   "metadata": {},
   "source": [
    "## Heat storage"
   ]
  },
  {
   "cell_type": "code",
   "execution_count": 46,
   "metadata": {},
   "outputs": [],
   "source": [
    "esM.add(\n",
    "    fn.Storage(\n",
    "        esM=esM,\n",
    "        name=\"LTHeatstorage\",\n",
    "        commodity=\"LTHeat\",\n",
    "        hasCapacityVariable=True,\n",
    "        chargeEfficiency=0.95,\n",
    "        dischargeEfficiency=0.95,\n",
    "        selfDischarge=0.0003,\n",
    "        chargeRate=1,\n",
    "        dischargeRate=1,\n",
    "        doPreciseTsaModeling=False,\n",
    "        investPerCapacity=147,\n",
    "        opexPerCapacity=147 * 0.01,\n",
    "        opexPerChargeOperation=0.0001,\n",
    "        interestRate=0.08,\n",
    "        economicLifetime=20,\n",
    "    )\n",
    ")"
   ]
  },
  {
   "cell_type": "markdown",
   "metadata": {},
   "source": [
    "# 6. Sinks\n",
    "\n",
    "Electricity, heat and transport demand are set in the following components."
   ]
  },
  {
   "cell_type": "markdown",
   "metadata": {},
   "source": [
    "## Electricity demand"
   ]
  },
  {
   "cell_type": "code",
   "execution_count": 47,
   "metadata": {},
   "outputs": [],
   "source": [
    "eDemand = 516\n",
    "esM.add(\n",
    "    fn.Sink(\n",
    "        esM=esM,\n",
    "        name=\"Electricity demand\",\n",
    "        commodity=\"electricity\",\n",
    "        hasCapacityVariable=False,\n",
    "        operationRateFix=data[\"Electricity demand, operationRateFix\"] * eDemand,\n",
    "    )\n",
    ")"
   ]
  },
  {
   "cell_type": "markdown",
   "metadata": {},
   "source": [
    "## Passenger Transportation demand"
   ]
  },
  {
   "cell_type": "code",
   "execution_count": 48,
   "metadata": {},
   "outputs": [],
   "source": [
    "pTdemand = 867\n",
    "esM.add(\n",
    "    fn.Sink(\n",
    "        esM=esM,\n",
    "        name=\"pT_demand\",\n",
    "        commodity=\"pTransport\",\n",
    "        hasCapacityVariable=False,\n",
    "        operationRateFix=data[\"T_demand, operationRateFix\"] * pTdemand,\n",
    "    )\n",
    ")"
   ]
  },
  {
   "cell_type": "markdown",
   "metadata": {},
   "source": [
    "## Freight Transportation demand"
   ]
  },
  {
   "cell_type": "code",
   "execution_count": 49,
   "metadata": {},
   "outputs": [],
   "source": [
    "fTdemand = 945.5\n",
    "esM.add(\n",
    "    fn.Sink(\n",
    "        esM=esM,\n",
    "        name=\"fT_demand\",\n",
    "        commodity=\"fTransport\",\n",
    "        hasCapacityVariable=False,\n",
    "        operationRateFix=data[\"T_demand, operationRateFix\"] * fTdemand,\n",
    "    )\n",
    ")"
   ]
  },
  {
   "cell_type": "markdown",
   "metadata": {},
   "source": [
    "## Heat demand"
   ]
  },
  {
   "cell_type": "markdown",
   "metadata": {},
   "source": [
    "### Process heat demand"
   ]
  },
  {
   "cell_type": "code",
   "execution_count": 50,
   "metadata": {},
   "outputs": [],
   "source": [
    "pHeatDemand = 423.75\n",
    "esM.add(\n",
    "    fn.Sink(\n",
    "        esM=esM,\n",
    "        name=\"PHeat_demand\",\n",
    "        commodity=\"PHeat\",\n",
    "        hasCapacityVariable=False,\n",
    "        operationRateFix=data[\"pHeat_demand, operationRateFix\"] * pHeatDemand,\n",
    "    )\n",
    ")"
   ]
  },
  {
   "cell_type": "markdown",
   "metadata": {},
   "source": [
    "### Low temperature residential heat demand"
   ]
  },
  {
   "cell_type": "code",
   "execution_count": 51,
   "metadata": {},
   "outputs": [],
   "source": [
    "LTHeatDemand = 560.8\n",
    "esM.add(\n",
    "    fn.Sink(\n",
    "        esM=esM,\n",
    "        name=\"LTHeat_demand\",\n",
    "        commodity=\"LTHeat\",\n",
    "        hasCapacityVariable=False,\n",
    "        operationRateFix=data[\"LtHeat_demand, operationRateFix\"] * LTHeatDemand,\n",
    "    )\n",
    ")"
   ]
  },
  {
   "cell_type": "markdown",
   "metadata": {},
   "source": [
    "## Environment\n",
    "\n",
    "The CO2 limit is set in this component."
   ]
  },
  {
   "cell_type": "code",
   "execution_count": 52,
   "metadata": {},
   "outputs": [],
   "source": [
    "CO2limit = 210000\n",
    "esM.add(\n",
    "    fn.Sink(\n",
    "        esM=esM,\n",
    "        name=\"environment\",\n",
    "        commodity=\"CO2\",\n",
    "        commodityLimitID=\"CO2_cap\",\n",
    "        hasCapacityVariable=False,\n",
    "        yearlyLimit=CO2limit,\n",
    "    )\n",
    ")"
   ]
  },
  {
   "cell_type": "markdown",
   "metadata": {},
   "source": [
    "# 7. Optimization of EnergyLand"
   ]
  },
  {
   "cell_type": "code",
   "execution_count": null,
   "metadata": {},
   "outputs": [],
   "source": [
    "esM.aggregateTemporally(numberOfTypicalPeriods=48)"
   ]
  },
  {
   "cell_type": "code",
   "execution_count": null,
   "metadata": {
    "tags": [
     "nbval-skip"
    ]
   },
   "outputs": [],
   "source": [
    "esM.optimize(timeSeriesAggregation=True, solver=\"gurobi\")"
   ]
  },
  {
   "cell_type": "markdown",
   "metadata": {},
   "source": [
    "# 8. Results"
   ]
  },
  {
   "cell_type": "code",
   "execution_count": null,
   "metadata": {
    "scrolled": true,
    "tags": [
     "nbval-skip"
    ]
   },
   "outputs": [],
   "source": [
    "esM.getOptimizationSummary(\"SourceSinkModel\", outputLevel=2)"
   ]
  },
  {
   "cell_type": "code",
   "execution_count": null,
   "metadata": {
    "scrolled": true,
    "tags": [
     "nbval-skip"
    ]
   },
   "outputs": [],
   "source": [
    "esM.getOptimizationSummary(\"ConversionModel\", outputLevel=2)"
   ]
  },
  {
   "cell_type": "code",
   "execution_count": null,
   "metadata": {
    "scrolled": true,
    "tags": [
     "nbval-skip"
    ]
   },
   "outputs": [],
   "source": [
    "esM.getOptimizationSummary(\"StorageModel\", outputLevel=2)"
   ]
  },
  {
   "cell_type": "markdown",
   "metadata": {},
   "source": [
    "# 9. MGA Optimization"
   ]
  },
  {
   "cell_type": "code",
   "execution_count": null,
   "metadata": {},
   "outputs": [],
   "source": [
    "energysysalt.optimize.mgaOptimize(\n",
    "    esM,\n",
    "    timeSeriesAggregation=True,\n",
    "    optimizationSpecs=\"OptimalityTol=1e-3 method=2 cuts=0 MIPGap=5e-3\",\n",
    "    slack=0.1, #Enter slack value as a decimal between 0 and 1\n",
    "    iterations=5, #Enter number of iterations\n",
    "    random_seed = True, # If random seed is used, the results will be the same for each time this function is run for this optimization problem\n",
    "    operationRateinOutput = False, # If true, both operation rate and capacity results will be provided else only the capacity variable values.\n",
    "    writeSolutionsasExcels = True # If the solutions are needed to be saved as csv files\n",
    ")"
   ]
  }
 ],
 "metadata": {
  "jupytext": {
   "formats": "ipynb,py:percent",
   "notebook_metadata_filter": "-all"
  },
  "kernelspec": {
   "display_name": "Python 3",
   "language": "python",
   "name": "python3"
  },
  "language_info": {
   "codemirror_mode": {
    "name": "ipython",
    "version": 3
   },
   "file_extension": ".py",
   "mimetype": "text/x-python",
   "name": "python",
   "nbconvert_exporter": "python",
   "pygments_lexer": "ipython3",
   "version": "3.10.13"
  }
 },
 "nbformat": 4,
 "nbformat_minor": 4
}
